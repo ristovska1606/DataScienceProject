{
  "nbformat": 4,
  "nbformat_minor": 0,
  "metadata": {
    "colab": {
      "provenance": [],
      "mount_file_id": "1oXE4D1gDnJBGQYM1VTq5kZNvnx77pH3l",
      "authorship_tag": "ABX9TyMJWQyzgWLJsr7FGyS339hu",
      "include_colab_link": true
    },
    "kernelspec": {
      "name": "python3",
      "display_name": "Python 3"
    },
    "language_info": {
      "name": "python"
    }
  },
  "cells": [
    {
      "cell_type": "markdown",
      "metadata": {
        "id": "view-in-github",
        "colab_type": "text"
      },
      "source": [
        "<a href=\"https://colab.research.google.com/github/ristovska1606/DataScienceProject/blob/master/203186_DataScienceProject.ipynb\" target=\"_parent\"><img src=\"https://colab.research.google.com/assets/colab-badge.svg\" alt=\"Open In Colab\"/></a>"
      ]
    },
    {
      "cell_type": "markdown",
      "source": [
        "# *Обработка на множеството податоци*"
      ],
      "metadata": {
        "id": "PL6qMHNOtZYp"
      }
    },
    {
      "cell_type": "code",
      "execution_count": 2,
      "metadata": {
        "id": "8d7OnYPxg-hc"
      },
      "outputs": [],
      "source": [
        "import pandas as pd"
      ]
    },
    {
      "cell_type": "code",
      "source": [
        "data = pd.read_csv('/content/drive/MyDrive/ВНП ПРОЕКТ/data/food_prices_usa.csv')\n",
        "data"
      ],
      "metadata": {
        "colab": {
          "base_uri": "https://localhost:8080/",
          "height": 833
        },
        "id": "RTIuUszyhLEg",
        "outputId": "984b2bae-6020-42f7-af02-361da7cb1314"
      },
      "execution_count": 3,
      "outputs": [
        {
          "output_type": "execute_result",
          "data": {
            "text/plain": [
              "                   Product  Price 2019  Price 2020  Price 2021  Price 2022  \\\n",
              "0             Apples (1kg)        4.39        4.55        4.73        5.22   \n",
              "1            Oranges (1kg)        3.20        3.31        3.45        3.80   \n",
              "2        Raspberries (1kg)       22.28       23.08       24.02       26.51   \n",
              "3               Pear (1kg)        3.80        3.94        4.10        4.52   \n",
              "4           Red Plum (1kg)        6.87        7.12        7.40        8.17   \n",
              "5        White Peach (1kg)        7.63        7.91        8.23        9.08   \n",
              "6            Bananas (1kg)        1.23        1.27        1.32        1.46   \n",
              "7              Beef (1kg)        11.95       12.38       12.88       14.54   \n",
              "8               Lamb (1kg)       14.12       14.64       15.23       17.19   \n",
              "9               Pork (1kg)       11.84       12.27       12.76       14.41   \n",
              "10  Meat of chickens (1kg)        9.39        9.73       10.12       11.43   \n",
              "11             Bread (1kg)        3.92        4.07        4.23        5.06   \n",
              "12             Milk  (1 l)        0.77        0.80        0.83        0.99   \n",
              "13     Rice (white). (1kg)        3.57        3.70        3.85        4.35   \n",
              "14                     Egg        0.14        0.14        0.15        0.24   \n",
              "15      Local Cheese (1kg)       10.19       10.56       10.99       12.41   \n",
              "16            Tomato (1kg)        3.52        3.64        3.79        4.19   \n",
              "17            Potato (1kg)        2.30        2.38        2.48        2.73   \n",
              "18             Onion (1kg)        2.30        2.38        2.48        2.73   \n",
              "19        Lettuce (1 head)        1.64        1.70        1.77        1.95   \n",
              "20          Broccoli (1kg)        5.94        6.15        6.40        7.06   \n",
              "21   Red Bell Pepper (1kg)        6.09        6.31        6.56        7.25   \n",
              "22          Eggplant (1kg)        2.73        2.83        2.95        3.25   \n",
              "23          Cabbage (1kg)         2.27        2.36        2.45        2.71   \n",
              "24            Potato (1kg)        3.80        3.94        4.10        4.52   \n",
              "\n",
              "    Price 2023 Currency Country  \n",
              "0         5.75        $     USA  \n",
              "1         4.19        $     USA  \n",
              "2        29.20        $     USA  \n",
              "3         4.98        $     USA  \n",
              "4         9.00        $     USA  \n",
              "5        10.00        $     USA  \n",
              "6         1.61        $     USA  \n",
              "7        15.21        $     USA  \n",
              "8        17.98        $     USA  \n",
              "9        14.00        $     USA  \n",
              "10       11.99        $     USA  \n",
              "11        5.25        $     USA  \n",
              "12        1.03        $     USA  \n",
              "13        4.56        $     USA  \n",
              "14        0.36        $     USA  \n",
              "15       12.87        $     USA  \n",
              "16        4.61        $     USA  \n",
              "17        3.01        $     USA  \n",
              "18        3.01        $     USA  \n",
              "19        2.15        $     USA  \n",
              "20        7.78        $     USA  \n",
              "21        7.98        $     USA  \n",
              "22        3.58        $     USA  \n",
              "23        2.98        $     USA  \n",
              "24        4.98        $     USA  "
            ],
            "text/html": [
              "\n",
              "  <div id=\"df-62973f81-3458-4934-9d40-67b8275fc2b4\" class=\"colab-df-container\">\n",
              "    <div>\n",
              "<style scoped>\n",
              "    .dataframe tbody tr th:only-of-type {\n",
              "        vertical-align: middle;\n",
              "    }\n",
              "\n",
              "    .dataframe tbody tr th {\n",
              "        vertical-align: top;\n",
              "    }\n",
              "\n",
              "    .dataframe thead th {\n",
              "        text-align: right;\n",
              "    }\n",
              "</style>\n",
              "<table border=\"1\" class=\"dataframe\">\n",
              "  <thead>\n",
              "    <tr style=\"text-align: right;\">\n",
              "      <th></th>\n",
              "      <th>Product</th>\n",
              "      <th>Price 2019</th>\n",
              "      <th>Price 2020</th>\n",
              "      <th>Price 2021</th>\n",
              "      <th>Price 2022</th>\n",
              "      <th>Price 2023</th>\n",
              "      <th>Currency</th>\n",
              "      <th>Country</th>\n",
              "    </tr>\n",
              "  </thead>\n",
              "  <tbody>\n",
              "    <tr>\n",
              "      <th>0</th>\n",
              "      <td>Apples (1kg)</td>\n",
              "      <td>4.39</td>\n",
              "      <td>4.55</td>\n",
              "      <td>4.73</td>\n",
              "      <td>5.22</td>\n",
              "      <td>5.75</td>\n",
              "      <td>$</td>\n",
              "      <td>USA</td>\n",
              "    </tr>\n",
              "    <tr>\n",
              "      <th>1</th>\n",
              "      <td>Oranges (1kg)</td>\n",
              "      <td>3.20</td>\n",
              "      <td>3.31</td>\n",
              "      <td>3.45</td>\n",
              "      <td>3.80</td>\n",
              "      <td>4.19</td>\n",
              "      <td>$</td>\n",
              "      <td>USA</td>\n",
              "    </tr>\n",
              "    <tr>\n",
              "      <th>2</th>\n",
              "      <td>Raspberries (1kg)</td>\n",
              "      <td>22.28</td>\n",
              "      <td>23.08</td>\n",
              "      <td>24.02</td>\n",
              "      <td>26.51</td>\n",
              "      <td>29.20</td>\n",
              "      <td>$</td>\n",
              "      <td>USA</td>\n",
              "    </tr>\n",
              "    <tr>\n",
              "      <th>3</th>\n",
              "      <td>Pear (1kg)</td>\n",
              "      <td>3.80</td>\n",
              "      <td>3.94</td>\n",
              "      <td>4.10</td>\n",
              "      <td>4.52</td>\n",
              "      <td>4.98</td>\n",
              "      <td>$</td>\n",
              "      <td>USA</td>\n",
              "    </tr>\n",
              "    <tr>\n",
              "      <th>4</th>\n",
              "      <td>Red Plum (1kg)</td>\n",
              "      <td>6.87</td>\n",
              "      <td>7.12</td>\n",
              "      <td>7.40</td>\n",
              "      <td>8.17</td>\n",
              "      <td>9.00</td>\n",
              "      <td>$</td>\n",
              "      <td>USA</td>\n",
              "    </tr>\n",
              "    <tr>\n",
              "      <th>5</th>\n",
              "      <td>White Peach (1kg)</td>\n",
              "      <td>7.63</td>\n",
              "      <td>7.91</td>\n",
              "      <td>8.23</td>\n",
              "      <td>9.08</td>\n",
              "      <td>10.00</td>\n",
              "      <td>$</td>\n",
              "      <td>USA</td>\n",
              "    </tr>\n",
              "    <tr>\n",
              "      <th>6</th>\n",
              "      <td>Bananas (1kg)</td>\n",
              "      <td>1.23</td>\n",
              "      <td>1.27</td>\n",
              "      <td>1.32</td>\n",
              "      <td>1.46</td>\n",
              "      <td>1.61</td>\n",
              "      <td>$</td>\n",
              "      <td>USA</td>\n",
              "    </tr>\n",
              "    <tr>\n",
              "      <th>7</th>\n",
              "      <td>Beef (1kg)</td>\n",
              "      <td>11.95</td>\n",
              "      <td>12.38</td>\n",
              "      <td>12.88</td>\n",
              "      <td>14.54</td>\n",
              "      <td>15.21</td>\n",
              "      <td>$</td>\n",
              "      <td>USA</td>\n",
              "    </tr>\n",
              "    <tr>\n",
              "      <th>8</th>\n",
              "      <td>Lamb (1kg)</td>\n",
              "      <td>14.12</td>\n",
              "      <td>14.64</td>\n",
              "      <td>15.23</td>\n",
              "      <td>17.19</td>\n",
              "      <td>17.98</td>\n",
              "      <td>$</td>\n",
              "      <td>USA</td>\n",
              "    </tr>\n",
              "    <tr>\n",
              "      <th>9</th>\n",
              "      <td>Pork (1kg)</td>\n",
              "      <td>11.84</td>\n",
              "      <td>12.27</td>\n",
              "      <td>12.76</td>\n",
              "      <td>14.41</td>\n",
              "      <td>14.00</td>\n",
              "      <td>$</td>\n",
              "      <td>USA</td>\n",
              "    </tr>\n",
              "    <tr>\n",
              "      <th>10</th>\n",
              "      <td>Meat of chickens (1kg)</td>\n",
              "      <td>9.39</td>\n",
              "      <td>9.73</td>\n",
              "      <td>10.12</td>\n",
              "      <td>11.43</td>\n",
              "      <td>11.99</td>\n",
              "      <td>$</td>\n",
              "      <td>USA</td>\n",
              "    </tr>\n",
              "    <tr>\n",
              "      <th>11</th>\n",
              "      <td>Bread (1kg)</td>\n",
              "      <td>3.92</td>\n",
              "      <td>4.07</td>\n",
              "      <td>4.23</td>\n",
              "      <td>5.06</td>\n",
              "      <td>5.25</td>\n",
              "      <td>$</td>\n",
              "      <td>USA</td>\n",
              "    </tr>\n",
              "    <tr>\n",
              "      <th>12</th>\n",
              "      <td>Milk  (1 l)</td>\n",
              "      <td>0.77</td>\n",
              "      <td>0.80</td>\n",
              "      <td>0.83</td>\n",
              "      <td>0.99</td>\n",
              "      <td>1.03</td>\n",
              "      <td>$</td>\n",
              "      <td>USA</td>\n",
              "    </tr>\n",
              "    <tr>\n",
              "      <th>13</th>\n",
              "      <td>Rice (white). (1kg)</td>\n",
              "      <td>3.57</td>\n",
              "      <td>3.70</td>\n",
              "      <td>3.85</td>\n",
              "      <td>4.35</td>\n",
              "      <td>4.56</td>\n",
              "      <td>$</td>\n",
              "      <td>USA</td>\n",
              "    </tr>\n",
              "    <tr>\n",
              "      <th>14</th>\n",
              "      <td>Egg</td>\n",
              "      <td>0.14</td>\n",
              "      <td>0.14</td>\n",
              "      <td>0.15</td>\n",
              "      <td>0.24</td>\n",
              "      <td>0.36</td>\n",
              "      <td>$</td>\n",
              "      <td>USA</td>\n",
              "    </tr>\n",
              "    <tr>\n",
              "      <th>15</th>\n",
              "      <td>Local Cheese (1kg)</td>\n",
              "      <td>10.19</td>\n",
              "      <td>10.56</td>\n",
              "      <td>10.99</td>\n",
              "      <td>12.41</td>\n",
              "      <td>12.87</td>\n",
              "      <td>$</td>\n",
              "      <td>USA</td>\n",
              "    </tr>\n",
              "    <tr>\n",
              "      <th>16</th>\n",
              "      <td>Tomato (1kg)</td>\n",
              "      <td>3.52</td>\n",
              "      <td>3.64</td>\n",
              "      <td>3.79</td>\n",
              "      <td>4.19</td>\n",
              "      <td>4.61</td>\n",
              "      <td>$</td>\n",
              "      <td>USA</td>\n",
              "    </tr>\n",
              "    <tr>\n",
              "      <th>17</th>\n",
              "      <td>Potato (1kg)</td>\n",
              "      <td>2.30</td>\n",
              "      <td>2.38</td>\n",
              "      <td>2.48</td>\n",
              "      <td>2.73</td>\n",
              "      <td>3.01</td>\n",
              "      <td>$</td>\n",
              "      <td>USA</td>\n",
              "    </tr>\n",
              "    <tr>\n",
              "      <th>18</th>\n",
              "      <td>Onion (1kg)</td>\n",
              "      <td>2.30</td>\n",
              "      <td>2.38</td>\n",
              "      <td>2.48</td>\n",
              "      <td>2.73</td>\n",
              "      <td>3.01</td>\n",
              "      <td>$</td>\n",
              "      <td>USA</td>\n",
              "    </tr>\n",
              "    <tr>\n",
              "      <th>19</th>\n",
              "      <td>Lettuce (1 head)</td>\n",
              "      <td>1.64</td>\n",
              "      <td>1.70</td>\n",
              "      <td>1.77</td>\n",
              "      <td>1.95</td>\n",
              "      <td>2.15</td>\n",
              "      <td>$</td>\n",
              "      <td>USA</td>\n",
              "    </tr>\n",
              "    <tr>\n",
              "      <th>20</th>\n",
              "      <td>Broccoli (1kg)</td>\n",
              "      <td>5.94</td>\n",
              "      <td>6.15</td>\n",
              "      <td>6.40</td>\n",
              "      <td>7.06</td>\n",
              "      <td>7.78</td>\n",
              "      <td>$</td>\n",
              "      <td>USA</td>\n",
              "    </tr>\n",
              "    <tr>\n",
              "      <th>21</th>\n",
              "      <td>Red Bell Pepper (1kg)</td>\n",
              "      <td>6.09</td>\n",
              "      <td>6.31</td>\n",
              "      <td>6.56</td>\n",
              "      <td>7.25</td>\n",
              "      <td>7.98</td>\n",
              "      <td>$</td>\n",
              "      <td>USA</td>\n",
              "    </tr>\n",
              "    <tr>\n",
              "      <th>22</th>\n",
              "      <td>Eggplant (1kg)</td>\n",
              "      <td>2.73</td>\n",
              "      <td>2.83</td>\n",
              "      <td>2.95</td>\n",
              "      <td>3.25</td>\n",
              "      <td>3.58</td>\n",
              "      <td>$</td>\n",
              "      <td>USA</td>\n",
              "    </tr>\n",
              "    <tr>\n",
              "      <th>23</th>\n",
              "      <td>Cabbage (1kg)</td>\n",
              "      <td>2.27</td>\n",
              "      <td>2.36</td>\n",
              "      <td>2.45</td>\n",
              "      <td>2.71</td>\n",
              "      <td>2.98</td>\n",
              "      <td>$</td>\n",
              "      <td>USA</td>\n",
              "    </tr>\n",
              "    <tr>\n",
              "      <th>24</th>\n",
              "      <td>Potato (1kg)</td>\n",
              "      <td>3.80</td>\n",
              "      <td>3.94</td>\n",
              "      <td>4.10</td>\n",
              "      <td>4.52</td>\n",
              "      <td>4.98</td>\n",
              "      <td>$</td>\n",
              "      <td>USA</td>\n",
              "    </tr>\n",
              "  </tbody>\n",
              "</table>\n",
              "</div>\n",
              "    <div class=\"colab-df-buttons\">\n",
              "\n",
              "  <div class=\"colab-df-container\">\n",
              "    <button class=\"colab-df-convert\" onclick=\"convertToInteractive('df-62973f81-3458-4934-9d40-67b8275fc2b4')\"\n",
              "            title=\"Convert this dataframe to an interactive table.\"\n",
              "            style=\"display:none;\">\n",
              "\n",
              "  <svg xmlns=\"http://www.w3.org/2000/svg\" height=\"24px\" viewBox=\"0 -960 960 960\">\n",
              "    <path d=\"M120-120v-720h720v720H120Zm60-500h600v-160H180v160Zm220 220h160v-160H400v160Zm0 220h160v-160H400v160ZM180-400h160v-160H180v160Zm440 0h160v-160H620v160ZM180-180h160v-160H180v160Zm440 0h160v-160H620v160Z\"/>\n",
              "  </svg>\n",
              "    </button>\n",
              "\n",
              "  <style>\n",
              "    .colab-df-container {\n",
              "      display:flex;\n",
              "      gap: 12px;\n",
              "    }\n",
              "\n",
              "    .colab-df-convert {\n",
              "      background-color: #E8F0FE;\n",
              "      border: none;\n",
              "      border-radius: 50%;\n",
              "      cursor: pointer;\n",
              "      display: none;\n",
              "      fill: #1967D2;\n",
              "      height: 32px;\n",
              "      padding: 0 0 0 0;\n",
              "      width: 32px;\n",
              "    }\n",
              "\n",
              "    .colab-df-convert:hover {\n",
              "      background-color: #E2EBFA;\n",
              "      box-shadow: 0px 1px 2px rgba(60, 64, 67, 0.3), 0px 1px 3px 1px rgba(60, 64, 67, 0.15);\n",
              "      fill: #174EA6;\n",
              "    }\n",
              "\n",
              "    .colab-df-buttons div {\n",
              "      margin-bottom: 4px;\n",
              "    }\n",
              "\n",
              "    [theme=dark] .colab-df-convert {\n",
              "      background-color: #3B4455;\n",
              "      fill: #D2E3FC;\n",
              "    }\n",
              "\n",
              "    [theme=dark] .colab-df-convert:hover {\n",
              "      background-color: #434B5C;\n",
              "      box-shadow: 0px 1px 3px 1px rgba(0, 0, 0, 0.15);\n",
              "      filter: drop-shadow(0px 1px 2px rgba(0, 0, 0, 0.3));\n",
              "      fill: #FFFFFF;\n",
              "    }\n",
              "  </style>\n",
              "\n",
              "    <script>\n",
              "      const buttonEl =\n",
              "        document.querySelector('#df-62973f81-3458-4934-9d40-67b8275fc2b4 button.colab-df-convert');\n",
              "      buttonEl.style.display =\n",
              "        google.colab.kernel.accessAllowed ? 'block' : 'none';\n",
              "\n",
              "      async function convertToInteractive(key) {\n",
              "        const element = document.querySelector('#df-62973f81-3458-4934-9d40-67b8275fc2b4');\n",
              "        const dataTable =\n",
              "          await google.colab.kernel.invokeFunction('convertToInteractive',\n",
              "                                                    [key], {});\n",
              "        if (!dataTable) return;\n",
              "\n",
              "        const docLinkHtml = 'Like what you see? Visit the ' +\n",
              "          '<a target=\"_blank\" href=https://colab.research.google.com/notebooks/data_table.ipynb>data table notebook</a>'\n",
              "          + ' to learn more about interactive tables.';\n",
              "        element.innerHTML = '';\n",
              "        dataTable['output_type'] = 'display_data';\n",
              "        await google.colab.output.renderOutput(dataTable, element);\n",
              "        const docLink = document.createElement('div');\n",
              "        docLink.innerHTML = docLinkHtml;\n",
              "        element.appendChild(docLink);\n",
              "      }\n",
              "    </script>\n",
              "  </div>\n",
              "\n",
              "\n",
              "<div id=\"df-48e481b4-003b-408a-9d42-d155aa9bd6a3\">\n",
              "  <button class=\"colab-df-quickchart\" onclick=\"quickchart('df-48e481b4-003b-408a-9d42-d155aa9bd6a3')\"\n",
              "            title=\"Suggest charts.\"\n",
              "            style=\"display:none;\">\n",
              "\n",
              "<svg xmlns=\"http://www.w3.org/2000/svg\" height=\"24px\"viewBox=\"0 0 24 24\"\n",
              "     width=\"24px\">\n",
              "    <g>\n",
              "        <path d=\"M19 3H5c-1.1 0-2 .9-2 2v14c0 1.1.9 2 2 2h14c1.1 0 2-.9 2-2V5c0-1.1-.9-2-2-2zM9 17H7v-7h2v7zm4 0h-2V7h2v10zm4 0h-2v-4h2v4z\"/>\n",
              "    </g>\n",
              "</svg>\n",
              "  </button>\n",
              "\n",
              "<style>\n",
              "  .colab-df-quickchart {\n",
              "    background-color: #E8F0FE;\n",
              "    border: none;\n",
              "    border-radius: 50%;\n",
              "    cursor: pointer;\n",
              "    display: none;\n",
              "    fill: #1967D2;\n",
              "    height: 32px;\n",
              "    padding: 0 0 0 0;\n",
              "    width: 32px;\n",
              "  }\n",
              "\n",
              "  .colab-df-quickchart:hover {\n",
              "    background-color: #E2EBFA;\n",
              "    box-shadow: 0px 1px 2px rgba(60, 64, 67, 0.3), 0px 1px 3px 1px rgba(60, 64, 67, 0.15);\n",
              "    fill: #174EA6;\n",
              "  }\n",
              "\n",
              "  [theme=dark] .colab-df-quickchart {\n",
              "    background-color: #3B4455;\n",
              "    fill: #D2E3FC;\n",
              "  }\n",
              "\n",
              "  [theme=dark] .colab-df-quickchart:hover {\n",
              "    background-color: #434B5C;\n",
              "    box-shadow: 0px 1px 3px 1px rgba(0, 0, 0, 0.15);\n",
              "    filter: drop-shadow(0px 1px 2px rgba(0, 0, 0, 0.3));\n",
              "    fill: #FFFFFF;\n",
              "  }\n",
              "</style>\n",
              "\n",
              "  <script>\n",
              "    async function quickchart(key) {\n",
              "      const charts = await google.colab.kernel.invokeFunction(\n",
              "          'suggestCharts', [key], {});\n",
              "    }\n",
              "    (() => {\n",
              "      let quickchartButtonEl =\n",
              "        document.querySelector('#df-48e481b4-003b-408a-9d42-d155aa9bd6a3 button');\n",
              "      quickchartButtonEl.style.display =\n",
              "        google.colab.kernel.accessAllowed ? 'block' : 'none';\n",
              "    })();\n",
              "  </script>\n",
              "</div>\n",
              "    </div>\n",
              "  </div>\n"
            ]
          },
          "metadata": {},
          "execution_count": 3
        }
      ]
    },
    {
      "cell_type": "code",
      "source": [
        "data.isnull().sum()"
      ],
      "metadata": {
        "colab": {
          "base_uri": "https://localhost:8080/"
        },
        "id": "y480f7PPnfBB",
        "outputId": "48102236-88ea-43c9-b208-e3e9e1fceb64"
      },
      "execution_count": 4,
      "outputs": [
        {
          "output_type": "execute_result",
          "data": {
            "text/plain": [
              "Product       0\n",
              "Price 2019    0\n",
              "Price 2020    0\n",
              "Price 2021    0\n",
              "Price 2022    0\n",
              "Price 2023    0\n",
              "Currency      0\n",
              "Country       0\n",
              "dtype: int64"
            ]
          },
          "metadata": {},
          "execution_count": 4
        }
      ]
    },
    {
      "cell_type": "code",
      "source": [
        "import matplotlib.pyplot as plt\n",
        "import seaborn as sns"
      ],
      "metadata": {
        "id": "ZhJTsULoqJRE"
      },
      "execution_count": 5,
      "outputs": []
    },
    {
      "cell_type": "code",
      "source": [
        "sns.pairplot(data)"
      ],
      "metadata": {
        "colab": {
          "base_uri": "https://localhost:8080/",
          "height": 1000
        },
        "id": "SEN9YCcgqCge",
        "outputId": "90252b4d-d9e7-4ed9-b12f-887c3049342c"
      },
      "execution_count": 6,
      "outputs": [
        {
          "output_type": "execute_result",
          "data": {
            "text/plain": [
              "<seaborn.axisgrid.PairGrid at 0x7a16780d7a00>"
            ]
          },
          "metadata": {},
          "execution_count": 6
        },
        {
          "output_type": "display_data",
          "data": {
            "text/plain": [
              "<Figure size 1250x1250 with 30 Axes>"
            ],
            "image/png": "[encoded data removed]"
          },
          "metadata": {}
        }
      ]
    },
    {
      "cell_type": "code",
      "source": [
        "x = data.drop(['Product','Price 2023','Currency','Country'],axis=1)\n",
        "y = data['Price 2023']"
      ],
      "metadata": {
        "id": "CKk64IEjtXsp"
      },
      "execution_count": 23,
      "outputs": []
    },
    {
      "cell_type": "code",
      "source": [
        "x.head(5)"
      ],
      "metadata": {
        "colab": {
          "base_uri": "https://localhost:8080/",
          "height": 206
        },
        "id": "XW6mYTA83PY6",
        "outputId": "4fa1f34c-94aa-4787-fabe-5a0f132b9877"
      },
      "execution_count": 8,
      "outputs": [
        {
          "output_type": "execute_result",
          "data": {
            "text/plain": [
              "   Price 2019  Price 2020  Price 2021  Price 2022\n",
              "0        4.39        4.55        4.73        5.22\n",
              "1        3.20        3.31        3.45        3.80\n",
              "2       22.28       23.08       24.02       26.51\n",
              "3        3.80        3.94        4.10        4.52\n",
              "4        6.87        7.12        7.40        8.17"
            ],
            "text/html": [
              "\n",
              "  <div id=\"df-cb9b5655-40e8-4dcc-b1d4-24de2083a034\" class=\"colab-df-container\">\n",
              "    <div>\n",
              "<style scoped>\n",
              "    .dataframe tbody tr th:only-of-type {\n",
              "        vertical-align: middle;\n",
              "    }\n",
              "\n",
              "    .dataframe tbody tr th {\n",
              "        vertical-align: top;\n",
              "    }\n",
              "\n",
              "    .dataframe thead th {\n",
              "        text-align: right;\n",
              "    }\n",
              "</style>\n",
              "<table border=\"1\" class=\"dataframe\">\n",
              "  <thead>\n",
              "    <tr style=\"text-align: right;\">\n",
              "      <th></th>\n",
              "      <th>Price 2019</th>\n",
              "      <th>Price 2020</th>\n",
              "      <th>Price 2021</th>\n",
              "      <th>Price 2022</th>\n",
              "    </tr>\n",
              "  </thead>\n",
              "  <tbody>\n",
              "    <tr>\n",
              "      <th>0</th>\n",
              "      <td>4.39</td>\n",
              "      <td>4.55</td>\n",
              "      <td>4.73</td>\n",
              "      <td>5.22</td>\n",
              "    </tr>\n",
              "    <tr>\n",
              "      <th>1</th>\n",
              "      <td>3.20</td>\n",
              "      <td>3.31</td>\n",
              "      <td>3.45</td>\n",
              "      <td>3.80</td>\n",
              "    </tr>\n",
              "    <tr>\n",
              "      <th>2</th>\n",
              "      <td>22.28</td>\n",
              "      <td>23.08</td>\n",
              "      <td>24.02</td>\n",
              "      <td>26.51</td>\n",
              "    </tr>\n",
              "    <tr>\n",
              "      <th>3</th>\n",
              "      <td>3.80</td>\n",
              "      <td>3.94</td>\n",
              "      <td>4.10</td>\n",
              "      <td>4.52</td>\n",
              "    </tr>\n",
              "    <tr>\n",
              "      <th>4</th>\n",
              "      <td>6.87</td>\n",
              "      <td>7.12</td>\n",
              "      <td>7.40</td>\n",
              "      <td>8.17</td>\n",
              "    </tr>\n",
              "  </tbody>\n",
              "</table>\n",
              "</div>\n",
              "    <div class=\"colab-df-buttons\">\n",
              "\n",
              "  <div class=\"colab-df-container\">\n",
              "    <button class=\"colab-df-convert\" onclick=\"convertToInteractive('df-cb9b5655-40e8-4dcc-b1d4-24de2083a034')\"\n",
              "            title=\"Convert this dataframe to an interactive table.\"\n",
              "            style=\"display:none;\">\n",
              "\n",
              "  <svg xmlns=\"http://www.w3.org/2000/svg\" height=\"24px\" viewBox=\"0 -960 960 960\">\n",
              "    <path d=\"M120-120v-720h720v720H120Zm60-500h600v-160H180v160Zm220 220h160v-160H400v160Zm0 220h160v-160H400v160ZM180-400h160v-160H180v160Zm440 0h160v-160H620v160ZM180-180h160v-160H180v160Zm440 0h160v-160H620v160Z\"/>\n",
              "  </svg>\n",
              "    </button>\n",
              "\n",
              "  <style>\n",
              "    .colab-df-container {\n",
              "      display:flex;\n",
              "      gap: 12px;\n",
              "    }\n",
              "\n",
              "    .colab-df-convert {\n",
              "      background-color: #E8F0FE;\n",
              "      border: none;\n",
              "      border-radius: 50%;\n",
              "      cursor: pointer;\n",
              "      display: none;\n",
              "      fill: #1967D2;\n",
              "      height: 32px;\n",
              "      padding: 0 0 0 0;\n",
              "      width: 32px;\n",
              "    }\n",
              "\n",
              "    .colab-df-convert:hover {\n",
              "      background-color: #E2EBFA;\n",
              "      box-shadow: 0px 1px 2px rgba(60, 64, 67, 0.3), 0px 1px 3px 1px rgba(60, 64, 67, 0.15);\n",
              "      fill: #174EA6;\n",
              "    }\n",
              "\n",
              "    .colab-df-buttons div {\n",
              "      margin-bottom: 4px;\n",
              "    }\n",
              "\n",
              "    [theme=dark] .colab-df-convert {\n",
              "      background-color: #3B4455;\n",
              "      fill: #D2E3FC;\n",
              "    }\n",
              "\n",
              "    [theme=dark] .colab-df-convert:hover {\n",
              "      background-color: #434B5C;\n",
              "      box-shadow: 0px 1px 3px 1px rgba(0, 0, 0, 0.15);\n",
              "      filter: drop-shadow(0px 1px 2px rgba(0, 0, 0, 0.3));\n",
              "      fill: #FFFFFF;\n",
              "    }\n",
              "  </style>\n",
              "\n",
              "    <script>\n",
              "      const buttonEl =\n",
              "        document.querySelector('#df-cb9b5655-40e8-4dcc-b1d4-24de2083a034 button.colab-df-convert');\n",
              "      buttonEl.style.display =\n",
              "        google.colab.kernel.accessAllowed ? 'block' : 'none';\n",
              "\n",
              "      async function convertToInteractive(key) {\n",
              "        const element = document.querySelector('#df-cb9b5655-40e8-4dcc-b1d4-24de2083a034');\n",
              "        const dataTable =\n",
              "          await google.colab.kernel.invokeFunction('convertToInteractive',\n",
              "                                                    [key], {});\n",
              "        if (!dataTable) return;\n",
              "\n",
              "        const docLinkHtml = 'Like what you see? Visit the ' +\n",
              "          '<a target=\"_blank\" href=https://colab.research.google.com/notebooks/data_table.ipynb>data table notebook</a>'\n",
              "          + ' to learn more about interactive tables.';\n",
              "        element.innerHTML = '';\n",
              "        dataTable['output_type'] = 'display_data';\n",
              "        await google.colab.output.renderOutput(dataTable, element);\n",
              "        const docLink = document.createElement('div');\n",
              "        docLink.innerHTML = docLinkHtml;\n",
              "        element.appendChild(docLink);\n",
              "      }\n",
              "    </script>\n",
              "  </div>\n",
              "\n",
              "\n",
              "<div id=\"df-34dfc2d2-dafc-4484-b76e-65fab6b2bea4\">\n",
              "  <button class=\"colab-df-quickchart\" onclick=\"quickchart('df-34dfc2d2-dafc-4484-b76e-65fab6b2bea4')\"\n",
              "            title=\"Suggest charts.\"\n",
              "            style=\"display:none;\">\n",
              "\n",
              "<svg xmlns=\"http://www.w3.org/2000/svg\" height=\"24px\"viewBox=\"0 0 24 24\"\n",
              "     width=\"24px\">\n",
              "    <g>\n",
              "        <path d=\"M19 3H5c-1.1 0-2 .9-2 2v14c0 1.1.9 2 2 2h14c1.1 0 2-.9 2-2V5c0-1.1-.9-2-2-2zM9 17H7v-7h2v7zm4 0h-2V7h2v10zm4 0h-2v-4h2v4z\"/>\n",
              "    </g>\n",
              "</svg>\n",
              "  </button>\n",
              "\n",
              "<style>\n",
              "  .colab-df-quickchart {\n",
              "    background-color: #E8F0FE;\n",
              "    border: none;\n",
              "    border-radius: 50%;\n",
              "    cursor: pointer;\n",
              "    display: none;\n",
              "    fill: #1967D2;\n",
              "    height: 32px;\n",
              "    padding: 0 0 0 0;\n",
              "    width: 32px;\n",
              "  }\n",
              "\n",
              "  .colab-df-quickchart:hover {\n",
              "    background-color: #E2EBFA;\n",
              "    box-shadow: 0px 1px 2px rgba(60, 64, 67, 0.3), 0px 1px 3px 1px rgba(60, 64, 67, 0.15);\n",
              "    fill: #174EA6;\n",
              "  }\n",
              "\n",
              "  [theme=dark] .colab-df-quickchart {\n",
              "    background-color: #3B4455;\n",
              "    fill: #D2E3FC;\n",
              "  }\n",
              "\n",
              "  [theme=dark] .colab-df-quickchart:hover {\n",
              "    background-color: #434B5C;\n",
              "    box-shadow: 0px 1px 3px 1px rgba(0, 0, 0, 0.15);\n",
              "    filter: drop-shadow(0px 1px 2px rgba(0, 0, 0, 0.3));\n",
              "    fill: #FFFFFF;\n",
              "  }\n",
              "</style>\n",
              "\n",
              "  <script>\n",
              "    async function quickchart(key) {\n",
              "      const charts = await google.colab.kernel.invokeFunction(\n",
              "          'suggestCharts', [key], {});\n",
              "    }\n",
              "    (() => {\n",
              "      let quickchartButtonEl =\n",
              "        document.querySelector('#df-34dfc2d2-dafc-4484-b76e-65fab6b2bea4 button');\n",
              "      quickchartButtonEl.style.display =\n",
              "        google.colab.kernel.accessAllowed ? 'block' : 'none';\n",
              "    })();\n",
              "  </script>\n",
              "</div>\n",
              "    </div>\n",
              "  </div>\n"
            ]
          },
          "metadata": {},
          "execution_count": 8
        }
      ]
    },
    {
      "cell_type": "code",
      "source": [
        "y.head(5)"
      ],
      "metadata": {
        "colab": {
          "base_uri": "https://localhost:8080/"
        },
        "id": "IDF2NfAS3QYN",
        "outputId": "5d92c9ce-0a1a-4259-ee81-55841a338097"
      },
      "execution_count": null,
      "outputs": [
        {
          "output_type": "execute_result",
          "data": {
            "text/plain": [
              "0     5.75\n",
              "1     4.19\n",
              "2    29.20\n",
              "3     4.98\n",
              "4     9.00\n",
              "Name: Price 2023, dtype: float64"
            ]
          },
          "metadata": {},
          "execution_count": 6
        }
      ]
    },
    {
      "cell_type": "code",
      "source": [
        "import numpy as np"
      ],
      "metadata": {
        "id": "tAS8EdjcXJH1"
      },
      "execution_count": 9,
      "outputs": []
    },
    {
      "cell_type": "code",
      "source": [
        "def createDataFrame(original, prediciton):\n",
        "  ids = []\n",
        "  prices2023 = []\n",
        "  data = []\n",
        "\n",
        "  for i in range(0,len(original)):\n",
        "    ids.append(original.index[i])\n",
        "    prices2023.append(original[original.index[i]])\n",
        "\n",
        "\n",
        "  temp =np.array(prediciton)\n",
        "  for i in range(0, len(ids)):\n",
        "    item = {}\n",
        "    item['ProductID'] = ids[i]\n",
        "    item['Price 2023'] = prices2023[i]\n",
        "    item['Predicted Price 2023'] = round(temp[i],2)\n",
        "    data.append(item)\n",
        "\n",
        "\n",
        "  data = pd.DataFrame(data)\n",
        "  print(data)\n"
      ],
      "metadata": {
        "id": "Ma0wW9HjTG44"
      },
      "execution_count": 10,
      "outputs": []
    },
    {
      "cell_type": "markdown",
      "source": [
        "# *Модел 1: Линеарна регресија*"
      ],
      "metadata": {
        "id": "Y0N2wQE_4RuL"
      }
    },
    {
      "cell_type": "code",
      "source": [
        "from sklearn.model_selection import train_test_split\n",
        "from sklearn.linear_model import LinearRegression\n",
        "from sklearn.preprocessing import StandardScaler\n",
        "from sklearn.metrics import r2_score"
      ],
      "metadata": {
        "id": "8ashGvO74mNZ"
      },
      "execution_count": 11,
      "outputs": []
    },
    {
      "cell_type": "code",
      "source": [
        "def calculateLinearRegressionScore(x,y):\n",
        "    model = LinearRegression()\n",
        "    #60:40\n",
        "    X_train,X_test,Y_train,Y_test = train_test_split(x,y,test_size=0.4)\n",
        "\n",
        "    scaler = StandardScaler()\n",
        "    scaler.fit(X_train)\n",
        "\n",
        "    X_train = scaler.transform(X_train)\n",
        "    X_test = scaler.transform(X_test)\n",
        "\n",
        "    model.fit(X_train,Y_train)\n",
        "    y_pred = model.predict(X_test)\n",
        "\n",
        "    createDataFrame(Y_test, y_pred)\n",
        "\n",
        "    print('Accuracy of linear regression on test set: {:.3f}'.format(r2_score(Y_test, y_pred)))\n"
      ],
      "metadata": {
        "id": "AHQilJ3P4bEn"
      },
      "execution_count": 12,
      "outputs": []
    },
    {
      "cell_type": "code",
      "source": [
        "calculateLinearRegressionScore(x,y)"
      ],
      "metadata": {
        "colab": {
          "base_uri": "https://localhost:8080/"
        },
        "id": "NVbrQhu59UyD",
        "outputId": "5bccd7a4-a61e-457c-a9c6-707dd76fd02d"
      },
      "execution_count": 13,
      "outputs": [
        {
          "output_type": "stream",
          "name": "stdout",
          "text": [
            "   ProductID  Price 2023  Predicted Price 2023\n",
            "0          0        5.75                  5.60\n",
            "1         23        2.98                  2.87\n",
            "2         11        5.25                  4.35\n",
            "3          7       15.21                 14.92\n",
            "4          4        9.00                  8.70\n",
            "5         15       12.87                 12.88\n",
            "6          6        1.61                  1.48\n",
            "7         20        7.78                  7.72\n",
            "8         12        1.03                  0.82\n",
            "9          5       10.00                 10.01\n",
            "Accuracy of linear regression on test set: 0.995\n"
          ]
        }
      ]
    },
    {
      "cell_type": "markdown",
      "source": [
        "# *Модел 2: Decision Tree Regression*"
      ],
      "metadata": {
        "id": "c7I1zaCZFR9E"
      }
    },
    {
      "cell_type": "code",
      "source": [
        "from sklearn.tree import DecisionTreeRegressor\n",
        "import sklearn.tree as tree"
      ],
      "metadata": {
        "id": "v3Vj1ER6Fjv3"
      },
      "execution_count": 14,
      "outputs": []
    },
    {
      "cell_type": "code",
      "source": [
        "def calculateDecisionTreeRegression(x,y):\n",
        "    #60:40\n",
        "    X_train,X_test,Y_train,Y_test = train_test_split(x,y,test_size=0.4)\n",
        "\n",
        "    regressor = DecisionTreeRegressor()\n",
        "    regressor.fit(X_train, Y_train)\n",
        "\n",
        "    y_pred = regressor.predict(X_test)\n",
        "    createDataFrame(Y_test, y_pred)\n",
        "    print(\"Accuracy of decision tree regressor on test set: {:.3f}\".format(r2_score(Y_test, y_pred)))\n",
        "\n",
        "\n",
        "\n",
        "    plt.figure(figsize=(10,10))\n",
        "    tree.plot_tree(regressor, feature_names = X_train.columns,\n",
        "               max_depth=5, filled=True);"
      ],
      "metadata": {
        "id": "SlOURUA2B04q"
      },
      "execution_count": 15,
      "outputs": []
    },
    {
      "cell_type": "code",
      "source": [
        "calculateDecisionTreeRegression(x,y)"
      ],
      "metadata": {
        "colab": {
          "base_uri": "https://localhost:8080/",
          "height": 1000
        },
        "id": "lbl6e7U6Jfkv",
        "outputId": "afc4a10e-57ad-405f-bd46-aaa5e1a6ede7"
      },
      "execution_count": 16,
      "outputs": [
        {
          "output_type": "stream",
          "name": "stdout",
          "text": [
            "   ProductID  Price 2023  Predicted Price 2023\n",
            "0         16        4.61                  4.56\n",
            "1         23        2.98                  3.01\n",
            "2          4        9.00                  5.75\n",
            "3         21        7.98                  5.75\n",
            "4          5       10.00                 12.87\n",
            "5         20        7.78                  5.75\n",
            "6          8       17.98                 14.00\n",
            "7          3        4.98                  4.98\n",
            "8          7       15.21                 14.00\n",
            "9         10       11.99                 12.87\n",
            "Accuracy of decision tree regressor on test set: 0.773\n"
          ]
        },
        {
          "output_type": "display_data",
          "data": {
            "text/plain": [
              "<Figure size 1000x1000 with 1 Axes>"
            ],
            "image/png": "[encoded data removed]"
          },
          "metadata": {}
        }
      ]
    },
    {
      "cell_type": "markdown",
      "source": [
        "# *Модел 3: Knn Regression*"
      ],
      "metadata": {
        "id": "L3PTKHaoUqsI"
      }
    },
    {
      "cell_type": "code",
      "source": [
        "from sklearn import neighbors"
      ],
      "metadata": {
        "id": "7OTtEFQimKMa"
      },
      "execution_count": 17,
      "outputs": []
    },
    {
      "cell_type": "code",
      "source": [
        "def calculateKNNRegression(x,y):\n",
        "    #60:40\n",
        "    X_train,X_test,Y_train,Y_test = train_test_split(x,y,test_size=0.4)\n",
        "    scaler = StandardScaler()\n",
        "    scaler.fit(X_train)\n",
        "\n",
        "    X_train = scaler.transform(X_train)\n",
        "    X_test = scaler.transform(X_test)\n",
        "\n",
        "    model = neighbors.KNeighborsRegressor(n_neighbors = 5)\n",
        "    model.fit(X_train, Y_train)\n",
        "\n",
        "    y_pred = model.predict(X_test)\n",
        "    createDataFrame(Y_test, y_pred)\n",
        "    print(\"Accuracy of knn regression on test set: {:.3f}\".format(r2_score(Y_test, y_pred)))"
      ],
      "metadata": {
        "id": "vUK3_x5IlixT"
      },
      "execution_count": 21,
      "outputs": []
    },
    {
      "cell_type": "code",
      "source": [
        "calculateKNNRegression(x,y)"
      ],
      "metadata": {
        "colab": {
          "base_uri": "https://localhost:8080/"
        },
        "id": "C7MDG-kGl4u5",
        "outputId": "ac11c781-ce2e-41a4-a3fc-4ad0fb47c46f"
      },
      "execution_count": 19,
      "outputs": [
        {
          "output_type": "stream",
          "name": "stdout",
          "text": [
            "   ProductID  Price 2023  Predicted Price 2023\n",
            "0          0        5.75                  4.51\n",
            "1         10       11.99                 12.57\n",
            "2          7       15.21                 12.57\n",
            "3         16        4.61                  4.51\n",
            "4         14        0.36                  2.56\n",
            "5         23        2.98                  3.19\n",
            "6          6        1.61                  2.56\n",
            "7         24        4.98                  4.51\n",
            "8          4        9.00                  6.55\n",
            "9         20        7.78                  6.55\n",
            "Accuracy of knn regressior on test set: 0.885\n"
          ]
        }
      ]
    },
    {
      "cell_type": "markdown",
      "source": [
        "# *Banchmark*"
      ],
      "metadata": {
        "id": "RgIVOubg1Ryk"
      }
    },
    {
      "cell_type": "code",
      "source": [
        "def createDataFrameForCompairing(original, prediciton_model1, prediction_model2, predicition_model3):\n",
        "  ids = []\n",
        "  prices2023 = []\n",
        "  data = []\n",
        "\n",
        "  for i in range(0,len(original)):\n",
        "    ids.append(original.index[i])\n",
        "    prices2023.append(original[original.index[i]])\n",
        "\n",
        "\n",
        "  temp1 =np.array(prediciton_model1)\n",
        "  temp2 =np.array(prediction_model2)\n",
        "  temp3 =np.array(predicition_model3)\n",
        "  for i in range(0, len(ids)):\n",
        "    item = {}\n",
        "    item['ProductID'] = ids[i]\n",
        "    item['Price 2023'] = prices2023[i]\n",
        "    item['Predicted Price 2023 - LN'] = round(temp1[i],2)\n",
        "    item['Predicted Price 2023 - DT'] = round(temp2[i],2)\n",
        "    item['Predicted Price 2023 - knn'] = round(temp3[i],2)\n",
        "    data.append(item)\n",
        "\n",
        "\n",
        "  data = pd.DataFrame(data)\n",
        "  return data"
      ],
      "metadata": {
        "id": "oAxKwFSA180t"
      },
      "execution_count": 48,
      "outputs": []
    },
    {
      "cell_type": "code",
      "source": [
        "def compareModels(x,y):\n",
        "  X_train,X_test,Y_train,Y_test = train_test_split(x,y,test_size=0.4)\n",
        "  model1 = LinearRegression()\n",
        "  model2 = DecisionTreeRegressor()\n",
        "  model3 = neighbors.KNeighborsRegressor(n_neighbors = 5)\n",
        "\n",
        "  model1.fit(X_train, Y_train)\n",
        "  model2.fit(X_train, Y_train)\n",
        "  model3.fit(X_train, Y_train)\n",
        "\n",
        "  y_pred_model1 = model1.predict(X_test)\n",
        "  y_pred_model2 = model2.predict(X_test)\n",
        "  y_pred_model3 = model3.predict(X_test)\n",
        "\n",
        "  print(createDataFrameForCompairing(Y_test, y_pred_model1, y_pred_model2, y_pred_model3))\n",
        "\n",
        "  print(\"Accuracy of Linear Regression on test set: {:.3f}\".format(r2_score(Y_test, y_pred_model1)))\n",
        "  print(\"Accuracy of Decision Tree Regression on test set: {:.3f}\".format(r2_score(Y_test, y_pred_model2)))\n",
        "  print(\"Accuracy of KNN Regression on test set: {:.3f}\".format(r2_score(Y_test, y_pred_model3)))\n"
      ],
      "metadata": {
        "id": "zirZXrLv1Qoc"
      },
      "execution_count": 55,
      "outputs": []
    },
    {
      "cell_type": "code",
      "source": [
        "compareModels(x,y)"
      ],
      "metadata": {
        "colab": {
          "base_uri": "https://localhost:8080/"
        },
        "id": "TR1Vfv7O3l2e",
        "outputId": "c545d86d-b629-40e8-aa51-459f230f25e1"
      },
      "execution_count": 54,
      "outputs": [
        {
          "output_type": "stream",
          "name": "stdout",
          "text": [
            "   ProductID  Price 2023  Predicted Price 2023 - LN  \\\n",
            "0          3        4.98                       4.97   \n",
            "1          1        4.19                       4.12   \n",
            "2         17        3.01                       3.01   \n",
            "3         18        3.01                       3.01   \n",
            "4         21        7.98                       7.89   \n",
            "5         20        7.78                       7.63   \n",
            "6         19        2.15                       2.22   \n",
            "7          9       14.00                      15.13   \n",
            "8         16        4.61                       4.54   \n",
            "9          2       29.20                      28.30   \n",
            "\n",
            "   Predicted Price 2023 - DT  Predicted Price 2023 - knn  \n",
            "0                       4.98                        4.82  \n",
            "1                       4.56                        4.27  \n",
            "2                       2.98                        3.54  \n",
            "3                       2.98                        3.54  \n",
            "4                       9.00                        7.00  \n",
            "5                       9.00                        7.00  \n",
            "6                       1.61                        1.91  \n",
            "7                      15.21                       13.61  \n",
            "8                       4.56                        4.82  \n",
            "9                      17.98                       13.61  \n",
            "None\n",
            "Accuracy of Linear Regression on test set: 0.996\n",
            "Accuracy of Decision Tree Regression on test set: 0.784\n",
            "Accuracy of KNN Regression on test set: 0.594\n"
          ]
        }
      ]
    }
  ]
}