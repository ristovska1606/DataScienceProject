{
  "nbformat": 4,
  "nbformat_minor": 0,
  "metadata": {
    "colab": {
      "provenance": [],
      "mount_file_id": "1JRFbQZNpeakJoux-d7RZppvBBQZW5QcU",
      "authorship_tag": "ABX9TyPwu4zsYNYWvCr9nrskDO+a",
      "include_colab_link": true
    },
    "kernelspec": {
      "name": "python3",
      "display_name": "Python 3"
    },
    "language_info": {
      "name": "python"
    }
  },
  "cells": [
    {
      "cell_type": "markdown",
      "metadata": {
        "id": "view-in-github",
        "colab_type": "text"
      },
      "source": [
        "<a href=\"https://colab.research.google.com/github/ristovska1606/DataScienceProject/blob/master/Scraping_data.ipynb\" target=\"_parent\"><img src=\"https://colab.research.google.com/assets/colab-badge.svg\" alt=\"Open In Colab\"/></a>"
      ]
    },
    {
      "cell_type": "code",
      "execution_count": null,
      "metadata": {
        "id": "wDv6jnQwJtSh"
      },
      "outputs": [],
      "source": [
        "import numpy\n",
        "import pandas\n",
        "import requests #HTTP library\n",
        "\n",
        "#Note: In the following resource you can find a way to select any part of a HTML content.\n",
        "#Resource: https://pypi.org/project/beautifulsoup4/\n",
        "from bs4 import BeautifulSoup\n",
        "\n",
        "#Note: IPython is a command shell for interactive computing in Python.\n",
        "#Note: IPython.display is a module for display tools in IPython.\n",
        "from IPython.display import HTML"
      ]
    },
    {
      "cell_type": "code",
      "source": [
        "#Note: We can disable warnings for out request\n",
        "import warnings\n",
        "\n",
        "requests.packages.urllib3.disable_warnings()\n",
        "warnings.filterwarnings(\"ignore\")"
      ],
      "metadata": {
        "id": "OcIBrCAaJ5Mo"
      },
      "execution_count": null,
      "outputs": []
    },
    {
      "cell_type": "code",
      "source": [
        "url = 'https://www.numbeo.com/food-prices/country_result.jsp?country=United+States'\n",
        "response = requests.get(url)\n",
        "response"
      ],
      "metadata": {
        "colab": {
          "base_uri": "https://localhost:8080/"
        },
        "id": "zBOFx6QWJ_HM",
        "outputId": "3d08a18d-c7f4-4326-a66a-12ad0d08ce97"
      },
      "execution_count": 38,
      "outputs": [
        {
          "output_type": "execute_result",
          "data": {
            "text/plain": [
              "<Response [200]>"
            ]
          },
          "metadata": {},
          "execution_count": 38
        }
      ]
    },
    {
      "cell_type": "code",
      "source": [
        "raw_html = response.text\n",
        "raw_html[:500]"
      ],
      "metadata": {
        "colab": {
          "base_uri": "https://localhost:8080/",
          "height": 88
        },
        "id": "uXlIwQfKKISn",
        "outputId": "cc32c80d-ad13-47c0-de6d-53579f36b9c1"
      },
      "execution_count": 39,
      "outputs": [
        {
          "output_type": "execute_result",
          "data": {
            "text/plain": [
              "'<!DOCTYPE html>\\n<html lang=\"en-US\">\\n<head>\\n<meta http-equiv=\"Content-Type\" content=\"text/html; charset=UTF-8\">\\n\\n<link rel=\"canonical\" href=\"https://www.numbeo.com/food-prices/country_result.jsp?country=United+States\" />\\n<meta name=\"description\" content=\"Average food prices in United States. Various related sociological and economical indices calculated for United States.\" />\\n            <script defer src=\"https://www.numbeo.com/common/numbeo_standard.js\"></script>\\n    <link href=\"https://cdnjs.c'"
            ],
            "application/vnd.google.colaboratory.intrinsic+json": {
              "type": "string"
            }
          },
          "metadata": {},
          "execution_count": 39
        }
      ]
    },
    {
      "cell_type": "code",
      "source": [
        "html = BeautifulSoup(raw_html, \"html.parser\")"
      ],
      "metadata": {
        "id": "Yy8BTCxQKS98"
      },
      "execution_count": 40,
      "outputs": []
    },
    {
      "cell_type": "code",
      "source": [
        "table = html.find_all(\"table\", {\"class\":\"data_wide_table new_bar_table\"})"
      ],
      "metadata": {
        "id": "hViFHqL3KUTC"
      },
      "execution_count": 47,
      "outputs": []
    },
    {
      "cell_type": "code",
      "source": [
        "allRows = table[0].select(\"tr\")"
      ],
      "metadata": {
        "id": "O95JQcfEKM4X"
      },
      "execution_count": 55,
      "outputs": []
    },
    {
      "cell_type": "code",
      "source": [
        "allRows[1].select(\"td\")"
      ],
      "metadata": {
        "colab": {
          "base_uri": "https://localhost:8080/"
        },
        "id": "vUzQraDpXy7d",
        "outputId": "52fa436f-7f90-430d-b6c4-1788e2ba925c"
      },
      "execution_count": 59,
      "outputs": [
        {
          "output_type": "execute_result",
          "data": {
            "text/plain": [
              "[<td>Milk (regular), (1 gallon) </td>,\n",
              " <td class=\"priceValue\" style=\"text-align: right\"> <span class=\"first_currency\">3.91 $</span></td>,\n",
              " <td class=\"priceBarTd\">\n",
              " <span class=\"barTextLeft\">\n",
              " 2.45</span><span class=\"barLeft\" style=\"width: 18px;\"></span><span class=\"barMid\"><span class=\"barMid-nocss\">-</span></span><span class=\"barRight\" style=\"width: 47px;\"></span><span class=\"barTextRight\">7.66</span></td>]"
            ]
          },
          "metadata": {},
          "execution_count": 59
        }
      ]
    },
    {
      "cell_type": "code",
      "source": [
        "productName = []\n",
        "productPrice = []\n",
        "\n",
        "for i in range(1, len(allRows)):\n",
        "  productName.append(allRows[i].select(\"td\")[0].text)\n",
        "  productPrice.append(allRows[i].select(\"td\")[1].text.replace(\"\\xa0$\", \"\"))"
      ],
      "metadata": {
        "id": "4PGyKGQMW32e"
      },
      "execution_count": 69,
      "outputs": []
    },
    {
      "cell_type": "code",
      "source": [
        "productName"
      ],
      "metadata": {
        "colab": {
          "base_uri": "https://localhost:8080/"
        },
        "id": "3Qz-6kkBY350",
        "outputId": "b398e4c9-c16c-4aef-8a2e-1b10cc02d734"
      },
      "execution_count": 64,
      "outputs": [
        {
          "output_type": "execute_result",
          "data": {
            "text/plain": [
              "['Milk (regular), (1 gallon) ',\n",
              " 'Loaf of Fresh White Bread (1 lb) ',\n",
              " 'Rice (white), (1 lb) ',\n",
              " 'Eggs (regular) (12) ',\n",
              " 'Local Cheese (1 lb) ',\n",
              " 'Chicken Fillets (1 lb) ',\n",
              " 'Beef Round (1 lb) (or Equivalent Back Leg Red Meat) ',\n",
              " 'Apples (1 lb) ',\n",
              " 'Banana (1 lb) ',\n",
              " 'Oranges (1 lb) ',\n",
              " 'Tomato (1 lb) ',\n",
              " 'Potato (1 lb) ',\n",
              " 'Onion (1 lb) ',\n",
              " 'Lettuce (1 head) ']"
            ]
          },
          "metadata": {},
          "execution_count": 64
        }
      ]
    },
    {
      "cell_type": "code",
      "source": [
        "productPrice"
      ],
      "metadata": {
        "colab": {
          "base_uri": "https://localhost:8080/"
        },
        "id": "-s2BBwZ8Y6Va",
        "outputId": "085182fd-56b3-4228-bcb3-2320334f8d70"
      },
      "execution_count": 70,
      "outputs": [
        {
          "output_type": "execute_result",
          "data": {
            "text/plain": [
              "[' 3.91',\n",
              " ' 3.22',\n",
              " ' 2.07',\n",
              " ' 4.37',\n",
              " ' 5.84',\n",
              " ' 5.44',\n",
              " ' 6.90',\n",
              " ' 2.40',\n",
              " ' 0.73',\n",
              " ' 1.90',\n",
              " ' 2.09',\n",
              " ' 1.36',\n",
              " ' 1.37',\n",
              " ' 2.15']"
            ]
          },
          "metadata": {},
          "execution_count": 70
        }
      ]
    },
    {
      "cell_type": "code",
      "source": [
        "data = []\n",
        "\n",
        "for i in range(0, len(productName)):\n",
        "  item = {}\n",
        "  item['Product'] = productName[i]\n",
        "  item['Price 2023'] = productPrice[i]\n",
        "  item[\"Currency\"] = \"$\"\n",
        "  item[\"Country\"] = \"USA\"\n",
        "  data.append(item)\n",
        "\n",
        "df = pandas.DataFrame(data)\n",
        "df"
      ],
      "metadata": {
        "colab": {
          "base_uri": "https://localhost:8080/",
          "height": 488
        },
        "id": "UqmJvg5rVaTr",
        "outputId": "e25d7d82-b779-44d1-f71a-12e035196b99"
      },
      "execution_count": 72,
      "outputs": [
        {
          "output_type": "execute_result",
          "data": {
            "text/plain": [
              "                                              Product Price 2023 Currency  \\\n",
              "0                         Milk (regular), (1 gallon)        3.91        $   \n",
              "1                   Loaf of Fresh White Bread (1 lb)        3.22        $   \n",
              "2                               Rice (white), (1 lb)        2.07        $   \n",
              "3                                Eggs (regular) (12)        4.37        $   \n",
              "4                                Local Cheese (1 lb)        5.84        $   \n",
              "5                             Chicken Fillets (1 lb)        5.44        $   \n",
              "6   Beef Round (1 lb) (or Equivalent Back Leg Red ...       6.90        $   \n",
              "7                                      Apples (1 lb)        2.40        $   \n",
              "8                                      Banana (1 lb)        0.73        $   \n",
              "9                                     Oranges (1 lb)        1.90        $   \n",
              "10                                     Tomato (1 lb)        2.09        $   \n",
              "11                                     Potato (1 lb)        1.36        $   \n",
              "12                                      Onion (1 lb)        1.37        $   \n",
              "13                                  Lettuce (1 head)        2.15        $   \n",
              "\n",
              "   Country  \n",
              "0      USA  \n",
              "1      USA  \n",
              "2      USA  \n",
              "3      USA  \n",
              "4      USA  \n",
              "5      USA  \n",
              "6      USA  \n",
              "7      USA  \n",
              "8      USA  \n",
              "9      USA  \n",
              "10     USA  \n",
              "11     USA  \n",
              "12     USA  \n",
              "13     USA  "
            ],
            "text/html": [
              "\n",
              "  <div id=\"df-a8d86a06-ccc8-465f-a898-34e102b71830\" class=\"colab-df-container\">\n",
              "    <div>\n",
              "<style scoped>\n",
              "    .dataframe tbody tr th:only-of-type {\n",
              "        vertical-align: middle;\n",
              "    }\n",
              "\n",
              "    .dataframe tbody tr th {\n",
              "        vertical-align: top;\n",
              "    }\n",
              "\n",
              "    .dataframe thead th {\n",
              "        text-align: right;\n",
              "    }\n",
              "</style>\n",
              "<table border=\"1\" class=\"dataframe\">\n",
              "  <thead>\n",
              "    <tr style=\"text-align: right;\">\n",
              "      <th></th>\n",
              "      <th>Product</th>\n",
              "      <th>Price 2023</th>\n",
              "      <th>Currency</th>\n",
              "      <th>Country</th>\n",
              "    </tr>\n",
              "  </thead>\n",
              "  <tbody>\n",
              "    <tr>\n",
              "      <th>0</th>\n",
              "      <td>Milk (regular), (1 gallon)</td>\n",
              "      <td>3.91</td>\n",
              "      <td>$</td>\n",
              "      <td>USA</td>\n",
              "    </tr>\n",
              "    <tr>\n",
              "      <th>1</th>\n",
              "      <td>Loaf of Fresh White Bread (1 lb)</td>\n",
              "      <td>3.22</td>\n",
              "      <td>$</td>\n",
              "      <td>USA</td>\n",
              "    </tr>\n",
              "    <tr>\n",
              "      <th>2</th>\n",
              "      <td>Rice (white), (1 lb)</td>\n",
              "      <td>2.07</td>\n",
              "      <td>$</td>\n",
              "      <td>USA</td>\n",
              "    </tr>\n",
              "    <tr>\n",
              "      <th>3</th>\n",
              "      <td>Eggs (regular) (12)</td>\n",
              "      <td>4.37</td>\n",
              "      <td>$</td>\n",
              "      <td>USA</td>\n",
              "    </tr>\n",
              "    <tr>\n",
              "      <th>4</th>\n",
              "      <td>Local Cheese (1 lb)</td>\n",
              "      <td>5.84</td>\n",
              "      <td>$</td>\n",
              "      <td>USA</td>\n",
              "    </tr>\n",
              "    <tr>\n",
              "      <th>5</th>\n",
              "      <td>Chicken Fillets (1 lb)</td>\n",
              "      <td>5.44</td>\n",
              "      <td>$</td>\n",
              "      <td>USA</td>\n",
              "    </tr>\n",
              "    <tr>\n",
              "      <th>6</th>\n",
              "      <td>Beef Round (1 lb) (or Equivalent Back Leg Red ...</td>\n",
              "      <td>6.90</td>\n",
              "      <td>$</td>\n",
              "      <td>USA</td>\n",
              "    </tr>\n",
              "    <tr>\n",
              "      <th>7</th>\n",
              "      <td>Apples (1 lb)</td>\n",
              "      <td>2.40</td>\n",
              "      <td>$</td>\n",
              "      <td>USA</td>\n",
              "    </tr>\n",
              "    <tr>\n",
              "      <th>8</th>\n",
              "      <td>Banana (1 lb)</td>\n",
              "      <td>0.73</td>\n",
              "      <td>$</td>\n",
              "      <td>USA</td>\n",
              "    </tr>\n",
              "    <tr>\n",
              "      <th>9</th>\n",
              "      <td>Oranges (1 lb)</td>\n",
              "      <td>1.90</td>\n",
              "      <td>$</td>\n",
              "      <td>USA</td>\n",
              "    </tr>\n",
              "    <tr>\n",
              "      <th>10</th>\n",
              "      <td>Tomato (1 lb)</td>\n",
              "      <td>2.09</td>\n",
              "      <td>$</td>\n",
              "      <td>USA</td>\n",
              "    </tr>\n",
              "    <tr>\n",
              "      <th>11</th>\n",
              "      <td>Potato (1 lb)</td>\n",
              "      <td>1.36</td>\n",
              "      <td>$</td>\n",
              "      <td>USA</td>\n",
              "    </tr>\n",
              "    <tr>\n",
              "      <th>12</th>\n",
              "      <td>Onion (1 lb)</td>\n",
              "      <td>1.37</td>\n",
              "      <td>$</td>\n",
              "      <td>USA</td>\n",
              "    </tr>\n",
              "    <tr>\n",
              "      <th>13</th>\n",
              "      <td>Lettuce (1 head)</td>\n",
              "      <td>2.15</td>\n",
              "      <td>$</td>\n",
              "      <td>USA</td>\n",
              "    </tr>\n",
              "  </tbody>\n",
              "</table>\n",
              "</div>\n",
              "    <div class=\"colab-df-buttons\">\n",
              "\n",
              "  <div class=\"colab-df-container\">\n",
              "    <button class=\"colab-df-convert\" onclick=\"convertToInteractive('df-a8d86a06-ccc8-465f-a898-34e102b71830')\"\n",
              "            title=\"Convert this dataframe to an interactive table.\"\n",
              "            style=\"display:none;\">\n",
              "\n",
              "  <svg xmlns=\"http://www.w3.org/2000/svg\" height=\"24px\" viewBox=\"0 -960 960 960\">\n",
              "    <path d=\"M120-120v-720h720v720H120Zm60-500h600v-160H180v160Zm220 220h160v-160H400v160Zm0 220h160v-160H400v160ZM180-400h160v-160H180v160Zm440 0h160v-160H620v160ZM180-180h160v-160H180v160Zm440 0h160v-160H620v160Z\"/>\n",
              "  </svg>\n",
              "    </button>\n",
              "\n",
              "  <style>\n",
              "    .colab-df-container {\n",
              "      display:flex;\n",
              "      gap: 12px;\n",
              "    }\n",
              "\n",
              "    .colab-df-convert {\n",
              "      background-color: #E8F0FE;\n",
              "      border: none;\n",
              "      border-radius: 50%;\n",
              "      cursor: pointer;\n",
              "      display: none;\n",
              "      fill: #1967D2;\n",
              "      height: 32px;\n",
              "      padding: 0 0 0 0;\n",
              "      width: 32px;\n",
              "    }\n",
              "\n",
              "    .colab-df-convert:hover {\n",
              "      background-color: #E2EBFA;\n",
              "      box-shadow: 0px 1px 2px rgba(60, 64, 67, 0.3), 0px 1px 3px 1px rgba(60, 64, 67, 0.15);\n",
              "      fill: #174EA6;\n",
              "    }\n",
              "\n",
              "    .colab-df-buttons div {\n",
              "      margin-bottom: 4px;\n",
              "    }\n",
              "\n",
              "    [theme=dark] .colab-df-convert {\n",
              "      background-color: #3B4455;\n",
              "      fill: #D2E3FC;\n",
              "    }\n",
              "\n",
              "    [theme=dark] .colab-df-convert:hover {\n",
              "      background-color: #434B5C;\n",
              "      box-shadow: 0px 1px 3px 1px rgba(0, 0, 0, 0.15);\n",
              "      filter: drop-shadow(0px 1px 2px rgba(0, 0, 0, 0.3));\n",
              "      fill: #FFFFFF;\n",
              "    }\n",
              "  </style>\n",
              "\n",
              "    <script>\n",
              "      const buttonEl =\n",
              "        document.querySelector('#df-a8d86a06-ccc8-465f-a898-34e102b71830 button.colab-df-convert');\n",
              "      buttonEl.style.display =\n",
              "        google.colab.kernel.accessAllowed ? 'block' : 'none';\n",
              "\n",
              "      async function convertToInteractive(key) {\n",
              "        const element = document.querySelector('#df-a8d86a06-ccc8-465f-a898-34e102b71830');\n",
              "        const dataTable =\n",
              "          await google.colab.kernel.invokeFunction('convertToInteractive',\n",
              "                                                    [key], {});\n",
              "        if (!dataTable) return;\n",
              "\n",
              "        const docLinkHtml = 'Like what you see? Visit the ' +\n",
              "          '<a target=\"_blank\" href=https://colab.research.google.com/notebooks/data_table.ipynb>data table notebook</a>'\n",
              "          + ' to learn more about interactive tables.';\n",
              "        element.innerHTML = '';\n",
              "        dataTable['output_type'] = 'display_data';\n",
              "        await google.colab.output.renderOutput(dataTable, element);\n",
              "        const docLink = document.createElement('div');\n",
              "        docLink.innerHTML = docLinkHtml;\n",
              "        element.appendChild(docLink);\n",
              "      }\n",
              "    </script>\n",
              "  </div>\n",
              "\n",
              "\n",
              "<div id=\"df-59114830-dbaf-4cfc-b506-08127045a3d5\">\n",
              "  <button class=\"colab-df-quickchart\" onclick=\"quickchart('df-59114830-dbaf-4cfc-b506-08127045a3d5')\"\n",
              "            title=\"Suggest charts.\"\n",
              "            style=\"display:none;\">\n",
              "\n",
              "<svg xmlns=\"http://www.w3.org/2000/svg\" height=\"24px\"viewBox=\"0 0 24 24\"\n",
              "     width=\"24px\">\n",
              "    <g>\n",
              "        <path d=\"M19 3H5c-1.1 0-2 .9-2 2v14c0 1.1.9 2 2 2h14c1.1 0 2-.9 2-2V5c0-1.1-.9-2-2-2zM9 17H7v-7h2v7zm4 0h-2V7h2v10zm4 0h-2v-4h2v4z\"/>\n",
              "    </g>\n",
              "</svg>\n",
              "  </button>\n",
              "\n",
              "<style>\n",
              "  .colab-df-quickchart {\n",
              "    background-color: #E8F0FE;\n",
              "    border: none;\n",
              "    border-radius: 50%;\n",
              "    cursor: pointer;\n",
              "    display: none;\n",
              "    fill: #1967D2;\n",
              "    height: 32px;\n",
              "    padding: 0 0 0 0;\n",
              "    width: 32px;\n",
              "  }\n",
              "\n",
              "  .colab-df-quickchart:hover {\n",
              "    background-color: #E2EBFA;\n",
              "    box-shadow: 0px 1px 2px rgba(60, 64, 67, 0.3), 0px 1px 3px 1px rgba(60, 64, 67, 0.15);\n",
              "    fill: #174EA6;\n",
              "  }\n",
              "\n",
              "  [theme=dark] .colab-df-quickchart {\n",
              "    background-color: #3B4455;\n",
              "    fill: #D2E3FC;\n",
              "  }\n",
              "\n",
              "  [theme=dark] .colab-df-quickchart:hover {\n",
              "    background-color: #434B5C;\n",
              "    box-shadow: 0px 1px 3px 1px rgba(0, 0, 0, 0.15);\n",
              "    filter: drop-shadow(0px 1px 2px rgba(0, 0, 0, 0.3));\n",
              "    fill: #FFFFFF;\n",
              "  }\n",
              "</style>\n",
              "\n",
              "  <script>\n",
              "    async function quickchart(key) {\n",
              "      const charts = await google.colab.kernel.invokeFunction(\n",
              "          'suggestCharts', [key], {});\n",
              "    }\n",
              "    (() => {\n",
              "      let quickchartButtonEl =\n",
              "        document.querySelector('#df-59114830-dbaf-4cfc-b506-08127045a3d5 button');\n",
              "      quickchartButtonEl.style.display =\n",
              "        google.colab.kernel.accessAllowed ? 'block' : 'none';\n",
              "    })();\n",
              "  </script>\n",
              "</div>\n",
              "    </div>\n",
              "  </div>\n"
            ]
          },
          "metadata": {},
          "execution_count": 72
        }
      ]
    },
    {
      "cell_type": "code",
      "source": [
        "df.to_csv('/content/drive/MyDrive/ВНП ПРОЕКТ/data/dataStarted.csv')"
      ],
      "metadata": {
        "id": "WXJ7hzFhbFbC"
      },
      "execution_count": 75,
      "outputs": []
    }
  ]
}